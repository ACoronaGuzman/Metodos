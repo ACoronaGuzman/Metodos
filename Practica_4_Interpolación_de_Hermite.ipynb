{
  "nbformat": 4,
  "nbformat_minor": 0,
  "metadata": {
    "colab": {
      "provenance": [],
      "authorship_tag": "ABX9TyPT+fRGIquAhJjtm0+tJIdB",
      "include_colab_link": true
    },
    "kernelspec": {
      "name": "python3",
      "display_name": "Python 3"
    },
    "language_info": {
      "name": "python"
    }
  },
  "cells": [
    {
      "cell_type": "markdown",
      "metadata": {
        "id": "view-in-github",
        "colab_type": "text"
      },
      "source": [
        "<a href=\"https://colab.research.google.com/github/ACoronaGuzman/Metodos/blob/main/Practica_4_Interpolaci%C3%B3n_de_Hermite.ipynb\" target=\"_parent\"><img src=\"https://colab.research.google.com/assets/colab-badge.svg\" alt=\"Open In Colab\"/></a>"
      ]
    },
    {
      "cell_type": "code",
      "execution_count": 49,
      "metadata": {
        "id": "QMP7Vz_0EJww"
      },
      "outputs": [],
      "source": [
        "from math import *\n",
        "import numpy as np\n",
        "import matplotlib . pyplot as plt\n",
        "import sympy as sym"
      ]
    },
    {
      "cell_type": "code",
      "source": [
        "#valores iniciales\n",
        "x=np.array([1.3,1.6,1.9])\n",
        "f=np.array([0.6200860, 0.4554022, 0.2818186])\n",
        "d=np.array([-0.5220232, -0.5698959, -0.5811571])\n",
        "n=(x.size)\n",
        "#arreglo donde se guardan los valores\n",
        "Q=np.zeros((2*n,2*n))\n",
        "z=np.zeros(2*n)\n",
        "#valores para interpolar\n",
        "xi=1.5\n",
        "H=Q[0,0]"
      ],
      "metadata": {
        "id": "HP00e3_REfQy"
      },
      "execution_count": 78,
      "outputs": []
    },
    {
      "cell_type": "code",
      "source": [
        "#construccion del Método de Hermite (construcción de la tabla de diferencias)\n",
        "for i in range(0,n):\n",
        "  z[2*i]=x[i]\n",
        "  z[2*i+1]=x[i]\n",
        "  Q[2*i,0]=f[i]\n",
        "  Q[2*i+1,0]=f[i]\n",
        "  Q[2*i+1,1]=d[i]\n",
        "  if i !=0:\n",
        "    Q[2*i,1]=(Q[2*i,0]-Q[2*i-1,0])/(z[2*i]-z[2*i-1])\n",
        "\n",
        "for i in range(2,2*n):\n",
        "  for j in range(2,i+1):\n",
        "    Q[i,j]=(Q[i,j-1]-Q[i-1,j-1])/(z[i]-z[i-j])\n",
        "print(\"f(z)\\t\\t  1°Dif\\t\\t2°Dif\\t     3°Dif\\t  4°Dif\\t     5°Dif\")\n",
        "print(Q)"
      ],
      "metadata": {
        "colab": {
          "base_uri": "https://localhost:8080/"
        },
        "id": "a6QC-sCVW_Ye",
        "outputId": "a9cdafd2-c839-4b23-dffd-5796304e6c51"
      },
      "execution_count": 79,
      "outputs": [
        {
          "output_type": "stream",
          "name": "stdout",
          "text": [
            "f(z)\t\t  1°Dif\t\t2°Dif\t     3°Dif\t  4°Dif\t     5°Dif\n",
            "[[ 0.620086    0.          0.          0.          0.          0.        ]\n",
            " [ 0.620086   -0.5220232   0.          0.          0.          0.        ]\n",
            " [ 0.4554022  -0.548946   -0.08974267  0.          0.          0.        ]\n",
            " [ 0.4554022  -0.5698959  -0.069833    0.06636556  0.          0.        ]\n",
            " [ 0.2818186  -0.578612   -0.02905367  0.06796556  0.00266667  0.        ]\n",
            " [ 0.2818186  -0.5811571  -0.00848367  0.06856667  0.00100185 -0.00277469]]\n"
          ]
        }
      ]
    },
    {
      "cell_type": "code",
      "source": [
        "# calcula la interpolacion de xi\n",
        "m=z.size\n",
        "x0=1\n",
        "H=Q[0,0]\n",
        "for k in range (1,m) :\n",
        "  x0= x0*( xi- z[k-1])\n",
        "  H= H +Q[k,k] * x0\n",
        "\n",
        "print (\"El valor Interpolado de\",xi,\"es: \", H)\n"
      ],
      "metadata": {
        "id": "x5E-bkl4mZlL",
        "colab": {
          "base_uri": "https://localhost:8080/"
        },
        "outputId": "d37fb180-dd71-4fd0-b216-eda27a46a915"
      },
      "execution_count": 107,
      "outputs": [
        {
          "output_type": "stream",
          "name": "stdout",
          "text": [
            "El valor Interpolado de 1.5 es:  0.5118277017283951\n"
          ]
        }
      ]
    },
    {
      "cell_type": "code",
      "source": [
        "#calculamos el polinomio\n",
        "m=z.size\n",
        "x0=1\n",
        "F=Q[0,0]\n",
        "s = sym.Symbol('x')\n",
        "for k in range (1,m) :\n",
        "  x0= x0*( s - z[k-1])\n",
        "  F= F +Q[k,k] * x0\n",
        "\n",
        "p=F.expand()\n",
        "print(\"Sea el polinomio:\")\n",
        "print(\"P(x)=\",p)\n",
        "#Para sustituir el valor a interpolar\n",
        "#px = sym.lambdify(s,p)\n",
        "#print(p.subs(s,1.5))"
      ],
      "metadata": {
        "colab": {
          "base_uri": "https://localhost:8080/"
        },
        "id": "bcQmprjm5Q1a",
        "outputId": "980fab27-d28e-4e85-87a8-47aafbaf19c5"
      },
      "execution_count": 108,
      "outputs": [
        {
          "output_type": "stream",
          "name": "stdout",
          "text": [
            "Sea el polinomio:\n",
            "P(x)= -0.00277469135798944*x**5 + 0.0240317901231809*x**4 - 0.0145560802460553*x**3 - 0.235216169754413*x**2 - 0.00822922345577151*x + 1.00194406469105\n"
          ]
        }
      ]
    },
    {
      "cell_type": "code",
      "source": [
        "#construccion del polinomio para graficar\n",
        "x = np.array ([1.0,1.3 ,1.6 ,1.9 ,2.2])\n",
        "f = np.array ([0.7651977, 0.6200860, 0.4554022, 0.2818186, 0.1103623])\n",
        "a=np.append(x,xi)\n",
        "b=np.append(f,H)\n",
        "plt.plot(a,b,color=\"red\",label=r'$P_5=-0.0027x^5+0.0240x^4-0.0145x^3-0.2352x^2-0.0082x+1.0019$')\n",
        "plt.legend(loc = 'upper right')\n",
        "plt.axhline(0, color=\"black\")\n",
        "plt.axvline(0, color=\"black\")\n",
        "plt.axvline(1.5, color=\"grey\", linestyle='dotted')\n",
        "plt.axhline(0.5118200, color=\"grey\", linestyle='dotted')\n",
        "plt.xlim(1, 2)\n",
        "plt.ylim(0, 1)\n",
        "plt.title(\"Interpolación de Hermite\")\n",
        "plt.grid()\n",
        "plt.xlabel(\"Eje X\")\n",
        "plt.ylabel(\"Eje Y\")\n",
        "#plt.savefig(\"output.png\") # Guardar gráfico como imágen PNG.\n",
        "# Mostrarlo.\n",
        "plt.show()"
      ],
      "metadata": {
        "colab": {
          "base_uri": "https://localhost:8080/",
          "height": 472
        },
        "id": "nGUQEepm58nx",
        "outputId": "82178a71-0b86-44ca-d5e5-4aa36c1e8410"
      },
      "execution_count": 112,
      "outputs": [
        {
          "output_type": "display_data",
          "data": {
            "text/plain": [
              "<Figure size 640x480 with 1 Axes>"
            ],
            "image/png": "[encoded data removed]"
          },
          "metadata": {}
        }
      ]
    }
  ]
}
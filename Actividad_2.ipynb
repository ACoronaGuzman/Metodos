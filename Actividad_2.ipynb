{
  "nbformat": 4,
  "nbformat_minor": 0,
  "metadata": {
    "colab": {
      "provenance": [],
      "authorship_tag": "ABX9TyNhZCYgS38HJqJHtaUQ5rG7",
      "include_colab_link": true
    },
    "kernelspec": {
      "name": "python3",
      "display_name": "Python 3"
    },
    "language_info": {
      "name": "python"
    }
  },
  "cells": [
    {
      "cell_type": "markdown",
      "metadata": {
        "id": "view-in-github",
        "colab_type": "text"
      },
      "source": [
        "<a href=\"https://colab.research.google.com/github/ACoronaGuzman/Metodos/blob/main/Actividad_2.ipynb\" target=\"_parent\"><img src=\"https://colab.research.google.com/assets/colab-badge.svg\" alt=\"Open In Colab\"/></a>"
      ]
    },
    {
      "cell_type": "code",
      "execution_count": 1,
      "metadata": {
        "id": "Lt8qh2pcLI78"
      },
      "outputs": [],
      "source": [
        "from math import *\n",
        "import numpy as np\n",
        "import matplotlib . pyplot as plt"
      ]
    },
    {
      "cell_type": "code",
      "source": [
        "def funcion1(x):\n",
        "    return x**2-3"
      ],
      "metadata": {
        "id": "6T1lXAK8LUKv"
      },
      "execution_count": 2,
      "outputs": []
    },
    {
      "cell_type": "code",
      "source": [
        "# Ingreso datos de entrada para los diferentes métodos a trabajar\n",
        "a = 1\n",
        "b = 2\n",
        "\n",
        "# guarda valores iniciales\n",
        "a0 = a\n",
        "b0 = b\n",
        "\n",
        "#guarda valores iniciales del error y del número de iteraciones\n",
        "tol = 0.00001 #float(input(\"Ingrese el valor de la tolerancia: \"))\n",
        "nmax = 100 #float(input(\"Ingrese el número máximo de iteraciones: \"))\n",
        "error = 100\n",
        "niter = 0"
      ],
      "metadata": {
        "id": "zz3FaTV6LWUH"
      },
      "execution_count": 4,
      "outputs": []
    },
    {
      "cell_type": "code",
      "source": [
        "# Método de Bisección\n",
        "\n",
        "# evaluo primer valor medio\n",
        "m = a + (b - a)/2\n",
        "\n",
        "#Evaluacion de la función en los puntos a, b y m\n",
        "fa = funcion1(a)\n",
        "fb = funcion1(b)\n",
        "fm = funcion1(m)\n",
        "\n",
        "print(\"# iter\\t\\t a \\t\\t f(a) \\t\\t b \\t\\t f(b) \\t\\t m \\t\\t f(m) \\t\\t error\")\n",
        "print(\"{0} \\t\\t {1:6.4f} \\t {2:6.4f} \\t {3:6.4f} \\t {4:6.4f} \\t {5:6.4f} \\t {6:6.4f} \\t {7:6.4f}\".format(niter, a0, fa, b0, fb, m, fm, error ))\n",
        "\n",
        "# ciclo iterativo\n",
        "while error > tol and niter < nmax:\n",
        "    m = a + (b - a) / 2\n",
        "    if np.sign(fa) == np.sign(fm):\n",
        "        a = m\n",
        "        fa = funcion1(a)\n",
        "    else:\n",
        "        b = m\n",
        "        fb = funcion1(b)\n",
        "    \n",
        "    m = a + (b - a)/2\n",
        "    fm = funcion1(m)\n",
        "    error = abs(b - a)\n",
        "    niter += 1\n",
        "    print(\"{0} \\t\\t {1:6.6f} \\t {2:6.6f} \\t {3:6.6f} \\t {4:6.6f} \\t {5:6.6f} \\t {6:6.6f} \\t {7:6.6f}\".format(niter, a, fa, b, fb, m, fm, error ))\n",
        "\n",
        "print(\"La raíz de la función dada en el intervalo [{0:6.4f},{1:6.4f}] es {2:6.7f}\".format(a0,b0,m))"
      ],
      "metadata": {
        "colab": {
          "base_uri": "https://localhost:8080/"
        },
        "id": "nDlrLDLELZbF",
        "outputId": "23b86613-2ec8-4ed6-d3e0-7ddd8af9a6fc"
      },
      "execution_count": 5,
      "outputs": [
        {
          "output_type": "stream",
          "name": "stdout",
          "text": [
            "# iter\t\t a \t\t f(a) \t\t b \t\t f(b) \t\t m \t\t f(m) \t\t error\n",
            "0 \t\t 1.0000 \t -2.0000 \t 2.0000 \t 1.0000 \t 1.5000 \t -0.7500 \t 100.0000\n",
            "1 \t\t 1.500000 \t -0.750000 \t 2.000000 \t 1.000000 \t 1.750000 \t 0.062500 \t 0.500000\n",
            "2 \t\t 1.500000 \t -0.750000 \t 1.750000 \t 0.062500 \t 1.625000 \t -0.359375 \t 0.250000\n",
            "3 \t\t 1.625000 \t -0.359375 \t 1.750000 \t 0.062500 \t 1.687500 \t -0.152344 \t 0.125000\n",
            "4 \t\t 1.687500 \t -0.152344 \t 1.750000 \t 0.062500 \t 1.718750 \t -0.045898 \t 0.062500\n",
            "5 \t\t 1.718750 \t -0.045898 \t 1.750000 \t 0.062500 \t 1.734375 \t 0.008057 \t 0.031250\n",
            "6 \t\t 1.718750 \t -0.045898 \t 1.734375 \t 0.008057 \t 1.726562 \t -0.018982 \t 0.015625\n",
            "7 \t\t 1.726562 \t -0.018982 \t 1.734375 \t 0.008057 \t 1.730469 \t -0.005478 \t 0.007812\n",
            "8 \t\t 1.730469 \t -0.005478 \t 1.734375 \t 0.008057 \t 1.732422 \t 0.001286 \t 0.003906\n",
            "9 \t\t 1.730469 \t -0.005478 \t 1.732422 \t 0.001286 \t 1.731445 \t -0.002097 \t 0.001953\n",
            "10 \t\t 1.731445 \t -0.002097 \t 1.732422 \t 0.001286 \t 1.731934 \t -0.000406 \t 0.000977\n",
            "11 \t\t 1.731934 \t -0.000406 \t 1.732422 \t 0.001286 \t 1.732178 \t 0.000440 \t 0.000488\n",
            "12 \t\t 1.731934 \t -0.000406 \t 1.732178 \t 0.000440 \t 1.732056 \t 0.000017 \t 0.000244\n",
            "13 \t\t 1.731934 \t -0.000406 \t 1.732056 \t 0.000017 \t 1.731995 \t -0.000195 \t 0.000122\n",
            "14 \t\t 1.731995 \t -0.000195 \t 1.732056 \t 0.000017 \t 1.732025 \t -0.000089 \t 0.000061\n",
            "15 \t\t 1.732025 \t -0.000089 \t 1.732056 \t 0.000017 \t 1.732040 \t -0.000036 \t 0.000031\n",
            "16 \t\t 1.732040 \t -0.000036 \t 1.732056 \t 0.000017 \t 1.732048 \t -0.000010 \t 0.000015\n",
            "17 \t\t 1.732048 \t -0.000010 \t 1.732056 \t 0.000017 \t 1.732052 \t 0.000004 \t 0.000008\n",
            "La raíz de la función dada en el intervalo [1.0000,2.0000] es 1.7320518\n"
          ]
        }
      ]
    },
    {
      "cell_type": "code",
      "source": [
        "def funcion2(x):\n",
        "    return x**3+x-4"
      ],
      "metadata": {
        "id": "3oAAIxc8hDlY"
      },
      "execution_count": 7,
      "outputs": []
    },
    {
      "cell_type": "code",
      "source": [
        "# Ingreso datos de entrada para los diferentes métodos a trabajar\n",
        "a = 1\n",
        "b = 4\n",
        "\n",
        "# guarda valores iniciales\n",
        "a0 = a\n",
        "b0 = b\n",
        "\n",
        "#guarda valores iniciales del error y del número de iteraciones\n",
        "tol = 0.001 #float(input(\"Ingrese el valor de la tolerancia: \"))\n",
        "nmax = 12 #float(input(\"Ingrese el número máximo de iteraciones: \"))\n",
        "error = 100\n",
        "niter = 0"
      ],
      "metadata": {
        "id": "MvIe9UA9Qcdx"
      },
      "execution_count": 20,
      "outputs": []
    },
    {
      "cell_type": "code",
      "source": [
        "# Método de Bisección\n",
        "\n",
        "# evaluo primer valor medio\n",
        "m = a + (b - a)/2\n",
        "\n",
        "#Evaluacion de la función en los puntos a, b y m\n",
        "fa = funcion2(a)\n",
        "fb = funcion2(b)\n",
        "fm = funcion2(m)\n",
        "\n",
        "print(\"# iter\\t\\t a \\t\\t f(a) \\t\\t b \\t\\t f(b) \\t\\t m \\t\\t f(m) \\t\\t error\")\n",
        "print(\"{0} \\t\\t {1:6.4f} \\t {2:6.4f} \\t {3:6.4f} \\t {4:6.4f} \\t {5:6.4f} \\t {6:6.4f} \\t {7:6.4f}\".format(niter, a0, fa, b0, fb, m, fm, error ))\n",
        "\n",
        "# ciclo iterativo\n",
        "while error > tol and niter < nmax:\n",
        "    m = a + (b - a) / 2\n",
        "    if np.sign(fa) == np.sign(fm):\n",
        "        a = m\n",
        "        fa = funcion2(a)\n",
        "    else:\n",
        "        b = m\n",
        "        fb = funcion2(b)\n",
        "    \n",
        "    m = a + (b - a)/2\n",
        "    fm = funcion2(m)\n",
        "    error = abs(b - a)\n",
        "    niter += 1\n",
        "    print(\"{0} \\t\\t {1:6.6f} \\t {2:6.6f} \\t {3:6.6f} \\t {4:6.6f} \\t {5:6.6f} \\t {6:6.6f} \\t {7:6.6f}\".format(niter, a, fa, b, fb, m, fm, error ))\n",
        "\n",
        "print(\"La raíz de la función dada en el intervalo [{0:6.4f},{1:6.4f}] es {2:6.7f}\".format(a0,b0,m))"
      ],
      "metadata": {
        "colab": {
          "base_uri": "https://localhost:8080/"
        },
        "id": "UMfUGt7CQtM3",
        "outputId": "1099f679-72e6-49f3-aac9-b5a5342dcbbd"
      },
      "execution_count": 27,
      "outputs": [
        {
          "output_type": "stream",
          "name": "stdout",
          "text": [
            "# iter\t\t a \t\t f(a) \t\t b \t\t f(b) \t\t m \t\t f(m) \t\t error\n",
            "12 \t\t 1.0000 \t -0.0009 \t 4.0000 \t 0.0040 \t 1.3790 \t 0.0016 \t 0.0007\n",
            "La raíz de la función dada en el intervalo [1.0000,4.0000] es 1.3790283\n"
          ]
        }
      ]
    },
    {
      "cell_type": "code",
      "source": [
        "def f1(x):\n",
        "    return np.cos(x)-x*np.exp(x)\n",
        "def f2(x):\n",
        "    return x\n",
        "def f3(x):\n",
        "    return np.cos(x)/np.exp(x)\n"
      ],
      "metadata": {
        "id": "6QQboeRHWS8D"
      },
      "execution_count": 40,
      "outputs": []
    },
    {
      "cell_type": "code",
      "source": [
        "# Valores del eje X que toma el gráfico.\n",
        "x=np.linspace(0, 1, 70)\n"
      ],
      "metadata": {
        "id": "dp0W3V_qbDt7"
      },
      "execution_count": 29,
      "outputs": []
    },
    {
      "cell_type": "code",
      "source": [
        "plt.plot(x, [f1(i) for i in x],color=\"red\")\n",
        "plt.plot(x, [f2(i) for i in x],color=\"blue\")\n",
        "plt.plot(x, [f3(i) for i in x],color=\"green\")\n",
        "plt.axhline(0, color=\"black\")\n",
        "plt.axvline(0, color=\"black\")\n",
        "plt.axvline(0.517757, color=\"black\")\n",
        "plt.xlim(0, 1)\n",
        "plt.ylim(0, 1)\n",
        "plt.title(\"Funciones\")\n",
        "plt.grid()\n",
        "plt.xlabel(\"Eje X\")\n",
        "plt.ylabel(\"Eje Y\")\n",
        "#plt.savefig(\"output.png\") # Guardar gráfico como imágen PNG.\n",
        "# Mostrarlo.\n",
        "plt.show()"
      ],
      "metadata": {
        "colab": {
          "base_uri": "https://localhost:8080/",
          "height": 472
        },
        "id": "th2FmOSebJLE",
        "outputId": "b8b4d99c-929e-4187-9dbb-d92bae65500e"
      },
      "execution_count": 44,
      "outputs": [
        {
          "output_type": "display_data",
          "data": {
            "text/plain": [
              "<Figure size 640x480 with 1 Axes>"
            ],
            "image/png": "[encoded data removed]"
          },
          "metadata": {}
        }
      ]
    },
    {
      "cell_type": "code",
      "source": [
        "#iteracion de punto fijo\n"
      ],
      "metadata": {
        "id": "lEzSuZNNdUxN"
      },
      "execution_count": null,
      "outputs": []
    }
  ]
}
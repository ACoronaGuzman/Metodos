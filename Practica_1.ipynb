{
  "nbformat": 4,
  "nbformat_minor": 0,
  "metadata": {
    "colab": {
      "provenance": [],
      "authorship_tag": "ABX9TyMW1u2Us6ogjW2wi+51fhtJ",
      "include_colab_link": true
    },
    "kernelspec": {
      "name": "python3",
      "display_name": "Python 3"
    },
    "language_info": {
      "name": "python"
    }
  },
  "cells": [
    {
      "cell_type": "markdown",
      "metadata": {
        "id": "view-in-github",
        "colab_type": "text"
      },
      "source": [
        "<a href=\"https://colab.research.google.com/github/ACoronaGuzman/Metodos/blob/main/Practica_1.ipynb\" target=\"_parent\"><img src=\"https://colab.research.google.com/assets/colab-badge.svg\" alt=\"Open In Colab\"/></a>"
      ]
    },
    {
      "cell_type": "code",
      "execution_count": null,
      "metadata": {
        "id": "HvAVFt9Hwaf2"
      },
      "outputs": [],
      "source": [
        "#iteracion de punto fijo\n",
        "from math import *\n",
        "import numpy as np\n",
        "import matplotlib . pyplot as plt"
      ]
    },
    {
      "cell_type": "code",
      "source": [
        "def funcion(x):\n",
        "    return x**3-x-1 #funcion que se quiere buscar el punto fijo "
      ],
      "metadata": {
        "id": "7Sp80yiRwgEy"
      },
      "execution_count": null,
      "outputs": []
    },
    {
      "cell_type": "code",
      "source": [
        "def g(x):\n",
        "  return pow(x+1,1/3) #funcion despejando x "
      ],
      "metadata": {
        "id": "sa4cv2BKwpyR"
      },
      "execution_count": null,
      "outputs": []
    },
    {
      "cell_type": "code",
      "source": [
        "# Ingreso datos de entrada para los diferentes métodos a trabajar\n",
        "a = 1\n",
        "b=2\n",
        "# guarda valores iniciales\n",
        "p= a\n",
        "p0= b\n",
        "n=1\n",
        "#guarda valores iniciales del error y del número de iteraciones\n",
        "tol = 0.0001 #float(input(\"Ingrese el valor de la tolerancia: \"))\n",
        "nmax = 15 #float(input(\"Ingrese el número máximo de iteraciones: \"))\n",
        "error=100\n",
        "niter = 0"
      ],
      "metadata": {
        "id": "SkE6610vw2Gf"
      },
      "execution_count": 24,
      "outputs": []
    },
    {
      "cell_type": "code",
      "source": [
        "#iteracion de punto fijo\n",
        "\n",
        "#Evaluacion de la función e punto\n",
        "f=funcion(n)\n",
        "print(\"# iter\\t\\t p0 \\t\\t g(p0) \\t\\t f(p0) \\t\\t error\")\n",
        "\n",
        "# ciclo iterativo\n",
        "while niter<nmax:\n",
        "    p=g(p0)\n",
        "    print(\"{0} \\t\\t {1:6.6f} \\t {2:6.6f} \\t {3:6.6f} \\t {4:6.6f}\".format(niter, p0, p, f, error ))\n",
        "    error = abs(p0-p)\n",
        "    if abs(error)<tol:\n",
        "      break\n",
        "    p0=p\n",
        "    f=funcion(p0)\n",
        "    niter += 1\n",
        "\n",
        "print(\"La raíz de la función dada en el intervalo [{0:6.4f},{1:6.4f}] es {2:6.7f}\".format(a,b,p))"
      ],
      "metadata": {
        "colab": {
          "base_uri": "https://localhost:8080/"
        },
        "id": "iuo1t6e3w5LC",
        "outputId": "29843185-b79b-4b63-9535-ef0e9a348b4f"
      },
      "execution_count": 25,
      "outputs": [
        {
          "output_type": "stream",
          "name": "stdout",
          "text": [
            "# iter\t\t p0 \t\t g(p0) \t\t f(p0) \t\t error\n",
            "0 \t\t 2.000000 \t 1.442250 \t -1.000000 \t 100.000000\n",
            "1 \t\t 1.442250 \t 1.346677 \t 0.557750 \t 0.557750\n",
            "2 \t\t 1.346677 \t 1.328876 \t 0.095573 \t 0.095573\n",
            "3 \t\t 1.328876 \t 1.325507 \t 0.017801 \t 0.017801\n",
            "4 \t\t 1.325507 \t 1.324868 \t 0.003369 \t 0.003369\n",
            "5 \t\t 1.324868 \t 1.324746 \t 0.000639 \t 0.000639\n",
            "6 \t\t 1.324746 \t 1.324723 \t 0.000121 \t 0.000121\n",
            "La raíz de la función dada en el intervalo [1.0000,2.0000] es 1.3247234\n"
          ]
        }
      ]
    }
  ]
}
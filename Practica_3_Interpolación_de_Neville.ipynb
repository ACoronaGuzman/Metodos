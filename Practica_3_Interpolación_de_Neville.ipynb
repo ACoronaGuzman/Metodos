{
  "nbformat": 4,
  "nbformat_minor": 0,
  "metadata": {
    "colab": {
      "provenance": [],
      "authorship_tag": "ABX9TyP9vuTeYfQAvbXIa8PuB+y1",
      "include_colab_link": true
    },
    "kernelspec": {
      "name": "python3",
      "display_name": "Python 3"
    },
    "language_info": {
      "name": "python"
    }
  },
  "cells": [
    {
      "cell_type": "markdown",
      "metadata": {
        "id": "view-in-github",
        "colab_type": "text"
      },
      "source": [
        "<a href=\"https://colab.research.google.com/github/ACoronaGuzman/Metodos/blob/main/Practica_3_Interpolaci%C3%B3n_de_Neville.ipynb\" target=\"_parent\"><img src=\"https://colab.research.google.com/assets/colab-badge.svg\" alt=\"Open In Colab\"/></a>"
      ]
    },
    {
      "cell_type": "code",
      "execution_count": 3,
      "metadata": {
        "id": "qBUti8HsrqRj"
      },
      "outputs": [],
      "source": [
        "from math import *\n",
        "import numpy as np\n",
        "import matplotlib . pyplot as plt"
      ]
    },
    {
      "cell_type": "code",
      "source": [
        "#valores de x y f(x), y el grado del polinomio\n",
        "x = np.array([1.0,1.3,1.6,1.9,2.2])\n",
        "f = np.array([0.7651977, 0.6200860, 0.4554022, 0.2818186, 0.1103623])\n",
        "n = x . size\n",
        "#arreglo donde se guardan los valores\n",
        "Q= np.zeros((n,n))\n",
        "#valor a interpolar\n",
        "xi=1.5\n",
        "yi=0\n"
      ],
      "metadata": {
        "id": "bRW2gqbosAMO"
      },
      "execution_count": 4,
      "outputs": []
    },
    {
      "cell_type": "code",
      "source": [
        "# Calcula las interpolaciones y compara sus valores\n",
        "Q[:,0]= f\n",
        "for i in range (1 , n ) :\n",
        "  for j in range (1 , i+1) :\n",
        "    Q [i, j]=((xi - x[i - j ])*Q[i ,j -1]-(xi -x[ i ])*Q[i -1,j -1])/(x[i]-x[i - j ])\n",
        "    yi = Q[i , i ]\n",
        "\n",
        "#genera la tabla:\n",
        "print ( Q )\n",
        "\n",
        "print(\"El valor interpolado en x =\", xi, \"es\", yi)\n",
        "\n"
      ],
      "metadata": {
        "colab": {
          "base_uri": "https://localhost:8080/"
        },
        "id": "ShxGlqy1u_V4",
        "outputId": "6e72e132-9083-4e6c-a640-b89b3d9942f7"
      },
      "execution_count": 8,
      "outputs": [
        {
          "output_type": "stream",
          "name": "stdout",
          "text": [
            "[[0.7651977  0.         0.         0.         0.        ]\n",
            " [0.620086   0.52334487 0.         0.         0.        ]\n",
            " [0.4554022  0.5102968  0.51247148 0.         0.        ]\n",
            " [0.2818186  0.5132634  0.51128567 0.51181269 0.        ]\n",
            " [0.1103623  0.510427   0.51373613 0.51183021 0.51181999]]\n",
            "El valor interpolado en x = 1.5 es 0.5118199942386831\n"
          ]
        }
      ]
    },
    {
      "cell_type": "code",
      "source": [
        "#Metodo definiendo una funcion\n",
        "def Nev(x, y, xi):\n",
        "    for i in range(n):\n",
        "        Q[i][0] = y[i]\n",
        "\n",
        "    for i in range(1, n):\n",
        "        for j in range(1, i):\n",
        "            Q[i][j] = ((xi - x[i - j]) * Q[i][j - 1] - (xi - x[i]) * Q[i - 1][j - 1]) / (x[i] - x[i - j])\n",
        "            F=Q[i][i]\n",
        "    return F"
      ],
      "metadata": {
        "id": "labAy46bwG_w"
      },
      "execution_count": 20,
      "outputs": []
    },
    {
      "cell_type": "code",
      "source": [
        "#grafica\n",
        "x = np.array([1.0,1.3,1.6,1.9,2.2])\n",
        "f = np.array([0.7651977, 0.6200860, 0.4554022, 0.2818186, 0.1103623])\n",
        "xi=1.5\n",
        "a=np.append(x,xi)\n",
        "b=np.append(f,yi)\n",
        "plt.plot(a,b,color=\"red\")\n",
        "plt.legend(loc = 'upper right')\n",
        "plt.axhline(0, color=\"black\")\n",
        "plt.axvline(0, color=\"black\")\n",
        "plt.axvline(1.5, color=\"grey\", linestyle='dotted')\n",
        "plt.axhline(0.5118200, color=\"grey\", linestyle='dotted')\n",
        "plt.xlim(1, 2)\n",
        "plt.ylim(0,1)\n",
        "plt.title(r'$P_4$')\n",
        "plt.grid()\n",
        "plt.xlabel(\"Eje X\")\n",
        "plt.ylabel(\"Eje Y\")\n",
        "#plt.savefig(\"output.png\") # Guardar gráfico como imágen PNG.\n",
        "# Mostrarlo.\n",
        "plt.show()"
      ],
      "metadata": {
        "colab": {
          "base_uri": "https://localhost:8080/",
          "height": 510
        },
        "id": "g6bigAa43Mnd",
        "outputId": "210e4bd5-d58c-4334-c3f2-1e3666504e7a"
      },
      "execution_count": 56,
      "outputs": [
        {
          "output_type": "stream",
          "name": "stderr",
          "text": [
            "WARNING:matplotlib.legend:No artists with labels found to put in legend.  Note that artists whose label start with an underscore are ignored when legend() is called with no argument.\n"
          ]
        },
        {
          "output_type": "display_data",
          "data": {
            "text/plain": [
              "<Figure size 640x480 with 1 Axes>"
            ],
            "image/png": "[encoded data removed]"
          },
          "metadata": {}
        }
      ]
    }
  ]
}
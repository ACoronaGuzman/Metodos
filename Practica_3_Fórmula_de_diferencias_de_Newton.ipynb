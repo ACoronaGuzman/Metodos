{
  "nbformat": 4,
  "nbformat_minor": 0,
  "metadata": {
    "colab": {
      "provenance": [],
      "authorship_tag": "ABX9TyOJlGEDOM/kO3rbxyjNGAxu",
      "include_colab_link": true
    },
    "kernelspec": {
      "name": "python3",
      "display_name": "Python 3"
    },
    "language_info": {
      "name": "python"
    }
  },
  "cells": [
    {
      "cell_type": "markdown",
      "metadata": {
        "id": "view-in-github",
        "colab_type": "text"
      },
      "source": [
        "<a href=\"https://colab.research.google.com/github/ACoronaGuzman/Metodos/blob/main/Practica_3_F%C3%B3rmula_de_diferencias_de_Newton.ipynb\" target=\"_parent\"><img src=\"https://colab.research.google.com/assets/colab-badge.svg\" alt=\"Open In Colab\"/></a>"
      ]
    },
    {
      "cell_type": "code",
      "execution_count": null,
      "metadata": {
        "id": "MN_yAJY9Ni0f"
      },
      "outputs": [],
      "source": [
        "from math import *\n",
        "import numpy as np\n",
        "import matplotlib . pyplot as plt"
      ]
    },
    {
      "cell_type": "code",
      "source": [
        "#valores de x\n",
        "x = np.array ([1.0,1.3 ,1.6 ,1.9 ,2.2])\n",
        "#valores de f(x)\n",
        "f = np.array ([0.7651977, 0.6200860, 0.4554022, 0.2818186, 0.1103623])\n",
        "#grado del polinomio\n",
        "n = x.size\n",
        "#Diferncias Cero\n",
        "F= np.zeros (( n , n ) )\n",
        "F[:,0]= f\n",
        "#Punto a interpolar\n",
        "xi =1.5\n",
        "y0 = F[0 , 0]"
      ],
      "metadata": {
        "id": "sMhQAEOXNztZ"
      },
      "execution_count": 50,
      "outputs": []
    },
    {
      "cell_type": "code",
      "source": [
        "# Genera la tabla de diferencias\n",
        "print(\"Diferencias 0\\t1° Dif.     2° Dif.      3° Dif.      4° Dif.\\t\")\n",
        "for i in range (0, n ):\n",
        "  for j in range (1,  i+1) :\n",
        "     F[i,j]=(F[i , j-1] - F[i-1, j-1]) / ( x[i] - x[ i-j ])\n",
        "print(F)\n"
      ],
      "metadata": {
        "colab": {
          "base_uri": "https://localhost:8080/"
        },
        "id": "dQBJ6aWlQ4j4",
        "outputId": "84c98970-9eff-4dee-8221-11a73382fb40"
      },
      "execution_count": 51,
      "outputs": [
        {
          "output_type": "stream",
          "name": "stdout",
          "text": [
            "Diferencias 0\t1° Dif.     2° Dif.      3° Dif.      4° Dif.\t\n",
            "[[ 0.7651977   0.          0.          0.          0.        ]\n",
            " [ 0.620086   -0.48370567  0.          0.          0.        ]\n",
            " [ 0.4554022  -0.548946   -0.10873389  0.          0.        ]\n",
            " [ 0.2818186  -0.578612   -0.04944333  0.0658784   0.        ]\n",
            " [ 0.1103623  -0.571521    0.01181833  0.06806852  0.0018251 ]]\n"
          ]
        }
      ]
    },
    {
      "cell_type": "code",
      "source": [
        "# calcula la interpolacion de xi\n",
        "x0=1\n",
        "for k in range (1,n) :\n",
        "  x0= x0*( xi - x[k-1])\n",
        "  y0= y0 + F[k,k] * x0\n",
        "\n",
        "print (\"El valor Interpolado de\",xi,\"es: \", y0 )\n"
      ],
      "metadata": {
        "colab": {
          "base_uri": "https://localhost:8080/"
        },
        "id": "9XmxeGFrUWOJ",
        "outputId": "3d63a8aa-340f-403c-9c8f-b3227e72e904"
      },
      "execution_count": 52,
      "outputs": [
        {
          "output_type": "stream",
          "name": "stdout",
          "text": [
            "El valor Interpolado de 1.5 es:  0.5118199942386833\n"
          ]
        }
      ]
    },
    {
      "cell_type": "code",
      "source": [
        "#construccion del polinomio para graficar\n",
        "x = np.array ([1.0,1.3 ,1.6 ,1.9 ,2.2])\n",
        "f = np.array ([0.7651977, 0.6200860, 0.4554022, 0.2818186, 0.1103623])\n",
        "xi =1.5\n",
        "a=np.append(x,xi)\n",
        "b=np.append(f,y0)\n",
        "plt.plot(a,b, color=\"red\")\n",
        "plt.legend(loc = 'upper right')\n",
        "plt.axhline(0, color=\"black\")\n",
        "plt.axvline(0, color=\"black\")\n",
        "plt.axvline(1.5, color=\"grey\", linestyle='dotted')\n",
        "plt.axhline(0.5118200, color=\"grey\", linestyle='dotted')\n",
        "plt.xlim(1, 2)\n",
        "plt.ylim(0, 1)\n",
        "plt.title(r'$P_4(x)$')\n",
        "plt.grid()\n",
        "plt.xlabel(\"Eje X\")\n",
        "plt.ylabel(\"Eje Y\")\n",
        "#plt.savefig(\"output.png\") # Guardar gráfico como imágen PNG.\n",
        "# Mostrarlo.\n",
        "plt.show()"
      ],
      "metadata": {
        "colab": {
          "base_uri": "https://localhost:8080/",
          "height": 511
        },
        "id": "9CNTAV9uUqWZ",
        "outputId": "8f97ffde-f0e5-4c90-9762-2d63ddf858ba"
      },
      "execution_count": 54,
      "outputs": [
        {
          "output_type": "stream",
          "name": "stderr",
          "text": [
            "WARNING:matplotlib.legend:No artists with labels found to put in legend.  Note that artists whose label start with an underscore are ignored when legend() is called with no argument.\n"
          ]
        },
        {
          "output_type": "display_data",
          "data": {
            "text/plain": [
              "<Figure size 640x480 with 1 Axes>"
            ],
            "image/png": "[encoded data removed]"
          },
          "metadata": {}
        }
      ]
    }
  ]
}
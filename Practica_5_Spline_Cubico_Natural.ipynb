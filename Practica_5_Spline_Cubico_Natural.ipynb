{
  "nbformat": 4,
  "nbformat_minor": 0,
  "metadata": {
    "colab": {
      "provenance": [],
      "authorship_tag": "ABX9TyO4jOS7Knc5rgz4tHzeEQe4",
      "include_colab_link": true
    },
    "kernelspec": {
      "name": "python3",
      "display_name": "Python 3"
    },
    "language_info": {
      "name": "python"
    }
  },
  "cells": [
    {
      "cell_type": "markdown",
      "metadata": {
        "id": "view-in-github",
        "colab_type": "text"
      },
      "source": [
        "<a href=\"https://colab.research.google.com/github/ACoronaGuzman/Metodos/blob/main/Practica_5_Spline_Cubico_Natural.ipynb\" target=\"_parent\"><img src=\"https://colab.research.google.com/assets/colab-badge.svg\" alt=\"Open In Colab\"/></a>"
      ]
    },
    {
      "cell_type": "code",
      "execution_count": null,
      "metadata": {
        "id": "iHIgnMVi9I00"
      },
      "outputs": [],
      "source": [
        "from math import *\n",
        "import numpy as np\n",
        "import matplotlib . pyplot as plt"
      ]
    },
    {
      "cell_type": "code",
      "source": [
        "#valores iniciales\n",
        "x = np.array ([0,1,2,3])\n",
        "f=np.array([1,e,e**2,e**3])\n",
        "ni=(x.size)\n",
        "n=ni-1\n",
        "A= np.zeros (ni)\n",
        "a=np.zeros(n)\n",
        "A[:]= f"
      ],
      "metadata": {
        "id": "_mB1raYjAZlL"
      },
      "execution_count": null,
      "outputs": []
    },
    {
      "cell_type": "code",
      "source": [
        "#construccion del metodo\n",
        "h=np.zeros(n)\n",
        "for i in range(0,n):\n",
        "  h[i]=x[i+1]-x[i]\n",
        "for j in range(0,n):\n",
        "  a[j]=(3*(A[j+1]-A[j]))/h[j]-(3*(A[j]-A[j-1]))/h[j-1]\n",
        "#elementos necesarios\n",
        "l=np.zeros(n)\n",
        "mu=np.zeros(n)\n",
        "z=np.zeros(n)\n",
        "l[0]=1\n",
        "for k in range(1,n-1):\n",
        "  l[k]=2*(x[k+1]-x[k-1])-h[k-1]*mu[k-1]\n",
        "  mu[k]=h[k]/l[k]\n",
        "  z[k]=(a[k]-h[k-1]*z[k-1])/l[k]\n",
        "l[n-1]=1\n",
        "#elementos necesarios\n",
        "c=np.zeros(n+1)\n",
        "b=np.zeros(n)\n",
        "d=np.zeros(n)\n",
        "c[1]=0.75685\n",
        "c[2]=5.83007\n",
        "for t in range(0,n):\n",
        "  b[t]=(A[t+1]-A[t])/h[t]-(h[t]*(c[t+1]+2*c[t]))/3\n",
        "  d[t]=(c[t+1]-c[t])/(3*h[t])\n",
        "\n",
        "print(\"Sea el spline cubico natural descrito por tramos, S(x):\")\n",
        "for i in range(0,n):\n",
        "  print(A[i],'+',b[i],'(x-',x[i],')+',c[i],'(x-',x[i],')^2+',d[i],'(x-',x[i],')^3, en ',x[i],'<= x <',x[i+1])"
      ],
      "metadata": {
        "colab": {
          "base_uri": "https://localhost:8080/"
        },
        "id": "-ZoLmM60H6Z9",
        "outputId": "751c8caf-1a6f-47b0-b392-3ba767989d33"
      },
      "execution_count": 111,
      "outputs": [
        {
          "output_type": "stream",
          "name": "stdout",
          "text": [
            "Sea el spline cubico natural descrito por tramos, S(x):\n",
            "1.0 + 1.4659984951257117 (x- 0 )+ 0.0 (x- 0 )^2+ 0.25228333333333336 (x- 0 )^3, en  0 <= x < 1\n",
            "2.718281828459045 + 2.2228509371382708 (x- 1 )+ 0.75685 (x- 1 )^2+ 1.6910733333333334 (x- 1 )^3, en  1 <= x < 2\n",
            "7.3890560989306495 + 8.809767490923683 (x- 2 )+ 5.83007 (x- 2 )^2+ -1.9433566666666666 (x- 2 )^3, en  2 <= x < 3\n"
          ]
        }
      ]
    }
  ]
}
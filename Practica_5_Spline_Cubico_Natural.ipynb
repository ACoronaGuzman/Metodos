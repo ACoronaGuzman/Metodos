{
  "nbformat": 4,
  "nbformat_minor": 0,
  "metadata": {
    "colab": {
      "provenance": [],
      "authorship_tag": "ABX9TyNRxn90oYzap937cEirnYSr",
      "include_colab_link": true
    },
    "kernelspec": {
      "name": "python3",
      "display_name": "Python 3"
    },
    "language_info": {
      "name": "python"
    }
  },
  "cells": [
    {
      "cell_type": "markdown",
      "metadata": {
        "id": "view-in-github",
        "colab_type": "text"
      },
      "source": [
        "<a href=\"https://colab.research.google.com/github/ACoronaGuzman/Metodos/blob/main/Practica_5_Spline_Cubico_Natural.ipynb\" target=\"_parent\"><img src=\"https://colab.research.google.com/assets/colab-badge.svg\" alt=\"Open In Colab\"/></a>"
      ]
    },
    {
      "cell_type": "code",
      "execution_count": null,
      "metadata": {
        "id": "iHIgnMVi9I00"
      },
      "outputs": [],
      "source": [
        "from math import *\n",
        "import numpy as np\n",
        "import matplotlib . pyplot as plt"
      ]
    },
    {
      "cell_type": "code",
      "source": [
        "#valores iniciales\n",
        "x = np.array ([0,1,2,3])\n",
        "f=np.array([1,e,e**2,e**3])\n",
        "ni=(x.size)\n",
        "n=ni-1\n",
        "A= np.zeros (ni)\n",
        "a=np.zeros(n)\n",
        "A[:]= f"
      ],
      "metadata": {
        "id": "_mB1raYjAZlL"
      },
      "execution_count": null,
      "outputs": []
    },
    {
      "cell_type": "code",
      "source": [
        "#construccion del metodo\n",
        "h=np.zeros(n)\n",
        "for i in range(0,n):\n",
        "  h[i]=x[i+1]-x[i]\n",
        "for j in range(0,n):\n",
        "  a[j]=(3*(A[j+1]-A[j]))/h[j]-(3*(A[j]-A[j-1]))/h[j-1]\n",
        "#elementos necesarios\n",
        "l=np.zeros(n)\n",
        "mu=np.zeros(n)\n",
        "z=np.zeros(n)\n",
        "l[0]=1\n",
        "for k in range(1,n-1):\n",
        "  l[k]=2*(x[k+1]-x[k-1])-h[k-1]*mu[k-1]\n",
        "  mu[k]=h[k]/l[k]\n",
        "  z[k]=(a[k]-h[k-1]*z[k-1])/l[k]\n",
        "l[n-1]=1\n",
        "#elementos necesarios\n",
        "c=np.zeros(n)\n",
        "b=np.zeros(n)\n",
        "d=np.zeros(n)\n",
        "for t in range(1,-1,-1):\n",
        "  c[t]=z[t]-mu[t]*c[t+1]\n",
        "  b[t]=(a[t+1]-a[t])/h[t]-h[t]*(c[t+1]+2*c[t])/3\n",
        "  d[t]=(c[t+1]-c[t])/(3*h[t])\n",
        "\n",
        "print(\"Sea el spline cubico natural descrito por tramos, S(x):\")\n",
        "for i in range(0,n):\n",
        "  print(A[i],'+',b[i],'(x-',x[i],')+',c[i],'(x-',x[i],')^2+',d[i],'(x-',x[i],')^3, en ',x[i],'<x<',x[i+1])"
      ],
      "metadata": {
        "colab": {
          "base_uri": "https://localhost:8080/"
        },
        "id": "-ZoLmM60H6Z9",
        "outputId": "b8df2989-d790-42ce-d9a8-4506cfd07217"
      },
      "execution_count": 87,
      "outputs": [
        {
          "output_type": "stream",
          "name": "stdout",
          "text": [
            "Sea el spline cubico natural descrito por tramos, S(x):\n",
            "1.0 + -54.2921020394056 (x- 0 )+ 0.0 (x- 0 )^2+ 0.7381231105031397 (x- 0 )^3, en  0 <x< 1\n",
            "2.718281828459045 + 13.74339611431228 (x- 1 )+ 2.214369331509419 (x- 1 )^2+ -0.7381231105031397 (x- 1 )^3, en  1 <x< 2\n",
            "7.3890560989306495 + 0.0 (x- 2 )+ 0.0 (x- 2 )^2+ 0.0 (x- 2 )^3, en  2 <x< 3\n"
          ]
        }
      ]
    }
  ]
}
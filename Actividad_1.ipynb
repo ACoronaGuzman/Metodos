{
  "nbformat": 4,
  "nbformat_minor": 0,
  "metadata": {
    "colab": {
      "provenance": [],
      "authorship_tag": "ABX9TyNLGQKCaG+gCh+oWwJAaQiK",
      "include_colab_link": true
    },
    "kernelspec": {
      "name": "python3",
      "display_name": "Python 3"
    },
    "language_info": {
      "name": "python"
    }
  },
  "cells": [
    {
      "cell_type": "markdown",
      "metadata": {
        "id": "view-in-github",
        "colab_type": "text"
      },
      "source": [
        "<a href=\"https://colab.research.google.com/github/ACoronaGuzman/Metodos/blob/main/Actividad_1.ipynb\" target=\"_parent\"><img src=\"https://colab.research.google.com/assets/colab-badge.svg\" alt=\"Open In Colab\"/></a>"
      ]
    },
    {
      "cell_type": "code",
      "execution_count": 2,
      "metadata": {
        "id": "YCQemGW0PvNP"
      },
      "outputs": [],
      "source": [
        "import matplotlib.pyplot as plt\n",
        "import numpy as np"
      ]
    },
    {
      "cell_type": "code",
      "source": [
        "# Ejercicio 2.\n",
        "def f2(x):\n",
        "    return 10**x -x-4"
      ],
      "metadata": {
        "id": "byt4ibMpRkDr"
      },
      "execution_count": 28,
      "outputs": []
    },
    {
      "cell_type": "code",
      "source": [
        "# Valores del eje X que toma el gráfico.\n",
        "x=np.linspace(0, 1, 10)"
      ],
      "metadata": {
        "id": "-dKGUOCzRnUM"
      },
      "execution_count": 29,
      "outputs": []
    },
    {
      "cell_type": "code",
      "source": [
        "# Graficar ambas funciones.\n",
        "plt.plot(x, [f2(i) for i in x],color=\"green\")\n",
        "plt.axhline(0, color=\"black\")\n",
        "plt.axvline(0, color=\"black\")\n",
        "plt.xlim(0, 1)\n",
        "plt.ylim(-1, 1)\n",
        "plt.title(\"Ejercicio 1\")\n",
        "plt.grid()\n",
        "plt.xlabel(\"Eje X\")\n",
        "plt.ylabel(\"Eje Y\")\n",
        "#plt.savefig(\"output.png\") # Guardar gráfico como imágen PNG.\n",
        "# Mostrarlo.\n",
        "plt.show()"
      ],
      "metadata": {
        "colab": {
          "base_uri": "https://localhost:8080/",
          "height": 295
        },
        "id": "M3s74ZbuRzw2",
        "outputId": "312ce652-a668-43e7-8545-430e6ef41907"
      },
      "execution_count": 35,
      "outputs": [
        {
          "output_type": "display_data",
          "data": {
            "text/plain": [
              "<Figure size 432x288 with 1 Axes>"
            ],
            "image/png": "[encoded data removed]"
          },
          "metadata": {
            "needs_background": "light"
          }
        }
      ]
    },
    {
      "cell_type": "code",
      "source": [
        "X=np.linspace(0.66,0.67,11)\n",
        "for x in X:\n",
        "  print(x,f2(x))"
      ],
      "metadata": {
        "colab": {
          "base_uri": "https://localhost:8080/"
        },
        "id": "1qjoAmzQR5QW",
        "outputId": "3f89b39f-2ea3-41f0-fcbe-f309a3ed1af7"
      },
      "execution_count": 39,
      "outputs": [
        {
          "output_type": "stream",
          "name": "stdout",
          "text": [
            "0.66 -0.08911810385124941\n",
            "0.661 -0.07958113285466473\n",
            "0.662 -0.07001987163131318\n",
            "0.663 -0.06043426418643971\n",
            "0.664 -0.0508242543962063\n",
            "0.665 -0.04118978600739709\n",
            "0.666 -0.03153080263711905\n",
            "0.667 -0.021847247772504907\n",
            "0.668 -0.012139064770409824\n",
            "0.669 -0.0024061968571129633\n",
            "0.67 0.00735141287198271\n"
          ]
        }
      ]
    },
    {
      "cell_type": "code",
      "source": [
        "# Ejercicio 3.\n",
        "def f3(x):\n",
        "    return x**3+4*x**2-10"
      ],
      "metadata": {
        "id": "wS6a1PqRZFam"
      },
      "execution_count": 40,
      "outputs": []
    },
    {
      "cell_type": "code",
      "source": [
        "# Valores del eje X que toma el gráfico.\n",
        "x=np.linspace(1, 2, 10)"
      ],
      "metadata": {
        "id": "JIT7vyF_ZWRc"
      },
      "execution_count": 42,
      "outputs": []
    },
    {
      "cell_type": "code",
      "source": [
        "# Graficar ambas funciones.\n",
        "plt.plot(x, [f3(i) for i in x],color=\"red\")\n",
        "plt.axhline(0, color=\"black\")\n",
        "plt.axvline(0, color=\"black\")\n",
        "plt.xlim(1, 1.5)\n",
        "plt.ylim(-1, 1)\n",
        "plt.title(\"Ejercicio 3\")\n",
        "plt.grid()\n",
        "plt.xlabel(\"Eje X\")\n",
        "plt.ylabel(\"Eje Y\")\n",
        "#plt.savefig(\"output.png\") # Guardar gráfico como imágen PNG.\n",
        "# Mostrarlo.\n",
        "plt.show()"
      ],
      "metadata": {
        "colab": {
          "base_uri": "https://localhost:8080/",
          "height": 295
        },
        "id": "ATPd48IqZdvp",
        "outputId": "db1a98db-237d-4058-849a-3a8f8eb8e406"
      },
      "execution_count": 45,
      "outputs": [
        {
          "output_type": "display_data",
          "data": {
            "text/plain": [
              "<Figure size 432x288 with 1 Axes>"
            ],
            "image/png": "[encoded data removed]"
          },
          "metadata": {
            "needs_background": "light"
          }
        }
      ]
    },
    {
      "cell_type": "code",
      "source": [
        "X=np.linspace(1.3642578125,1.365234375,11)\n",
        "for x in X:\n",
        "  print(x,f3(x))"
      ],
      "metadata": {
        "colab": {
          "base_uri": "https://localhost:8080/"
        },
        "id": "71HBdRpPZxEa",
        "outputId": "3fce6466-edd7-4b41-da47-c0dad8d33d19"
      },
      "execution_count": 57,
      "outputs": [
        {
          "output_type": "stream",
          "name": "stdout",
          "text": [
            "1.3642578125 -0.01604669075459242\n",
            "1.36435546875 -0.014435513903388042\n",
            "1.364453125 -0.012824182689190167\n",
            "1.36455078125 -0.011212697106413927\n",
            "1.3646484375 -0.009601057149467351\n",
            "1.36474609375 -0.007989262812770903\n",
            "1.36484375 -0.0063773140907308346\n",
            "1.36494140625 -0.004765210977755174\n",
            "1.3650390625 -0.0031529534682643856\n",
            "1.36513671875 -0.0015405415566629443\n",
            "1.365234375 7.202476263046265e-05\n"
          ]
        }
      ]
    },
    {
      "cell_type": "code",
      "source": [
        "# Ejercicio 1.\n",
        "def f1(x):\n",
        "    return np.cos(x)-x*np.exp(x)"
      ],
      "metadata": {
        "id": "azXxsCffgMRU"
      },
      "execution_count": 81,
      "outputs": []
    },
    {
      "cell_type": "code",
      "source": [
        "# Valores del eje X que toma el gráfico.\n",
        "x=np.linspace(0, 1, 100)"
      ],
      "metadata": {
        "id": "Lol9n3psgZAd"
      },
      "execution_count": 82,
      "outputs": []
    },
    {
      "cell_type": "code",
      "source": [
        "# Graficar ambas funciones.\n",
        "plt.plot(x, [f1(i) for i in x],color=\"blue\")\n",
        "plt.axhline(0, color=\"black\")\n",
        "plt.axvline(0, color=\"black\")\n",
        "plt.xlim(0, 1)\n",
        "plt.ylim(-1, 1.5)\n",
        "plt.title(\"Ejercicio 1\")\n",
        "plt.grid()\n",
        "plt.xlabel(\"Eje X\")\n",
        "plt.ylabel(\"Eje Y\")\n",
        "#plt.savefig(\"output.png\") # Guardar gráfico como imágen PNG.\n",
        "# Mostrarlo.\n",
        "plt.show()"
      ],
      "metadata": {
        "colab": {
          "base_uri": "https://localhost:8080/",
          "height": 295
        },
        "id": "k-rESuHzgisU",
        "outputId": "c1f789e1-6891-4196-9071-c3548a7ad864"
      },
      "execution_count": 83,
      "outputs": [
        {
          "output_type": "display_data",
          "data": {
            "text/plain": [
              "<Figure size 432x288 with 1 Axes>"
            ],
            "image/png": "[encoded data removed]"
          },
          "metadata": {
            "needs_background": "light"
          }
        }
      ]
    }
  ]
}
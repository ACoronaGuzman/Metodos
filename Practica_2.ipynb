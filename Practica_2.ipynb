{
  "nbformat": 4,
  "nbformat_minor": 0,
  "metadata": {
    "colab": {
      "provenance": [],
      "authorship_tag": "ABX9TyNebfrFnXx00qgjSiOftXvL",
      "include_colab_link": true
    },
    "kernelspec": {
      "name": "python3",
      "display_name": "Python 3"
    },
    "language_info": {
      "name": "python"
    }
  },
  "cells": [
    {
      "cell_type": "markdown",
      "metadata": {
        "id": "view-in-github",
        "colab_type": "text"
      },
      "source": [
        "<a href=\"https://colab.research.google.com/github/ACoronaGuzman/Metodos/blob/main/Practica_2.ipynb\" target=\"_parent\"><img src=\"https://colab.research.google.com/assets/colab-badge.svg\" alt=\"Open In Colab\"/></a>"
      ]
    },
    {
      "cell_type": "code",
      "execution_count": null,
      "metadata": {
        "id": "Aud9Hq_GK1B3"
      },
      "outputs": [],
      "source": [
        "from math import *\n",
        "import numpy as np\n",
        "import matplotlib.pyplot as plt\n",
        "import numpy.polynomial.polynomial as pol"
      ]
    },
    {
      "cell_type": "code",
      "source": [
        "def funcion1(x):\n",
        "    return x**4 -3*x**3 +x**2 + x + 1\n",
        "\n",
        "def df1(x):\n",
        "    return 4*x**3-9*x**2+2*x+1"
      ],
      "metadata": {
        "id": "-frgK5KvLeW0"
      },
      "execution_count": null,
      "outputs": []
    },
    {
      "cell_type": "code",
      "source": [
        "#1_Metodo de Newton\n",
        "#Ingrese el valor inicial \n",
        "p0 = 1.5\n",
        "error = 100\n",
        "tol = 0.0001\n",
        "niter = 0\n",
        "nmax = 100\n",
        "\n",
        "print(\"n \\t\\t Pn \\t\\t error\")\n",
        "print(\"{0} \\t\\t {1:6.6f} \\t {2:6.6f}\".format(niter, p0, 0 ))\n",
        "while error > tol and niter < nmax:\n",
        "    p = p0- funcion1(p0)/(df1(p0))\n",
        "    error = abs(funcion1(p0)-funcion1(p))\n",
        "    p0 = p\n",
        "    niter +=1\n",
        "    print(\"{0} \\t\\t {1:6.9f} \\t {2:6.9f}\".format(niter, p0, error ))\n",
        "\n",
        "print(\"La raiz apriximada es {0:6.9f}\".format(p0))"
      ],
      "metadata": {
        "colab": {
          "base_uri": "https://localhost:8080/"
        },
        "id": "_khrMOVBLopM",
        "outputId": "82ba2695-aa54-485e-cd16-c9eeffbc1871"
      },
      "execution_count": null,
      "outputs": [
        {
          "output_type": "stream",
          "name": "stdout",
          "text": [
            "n \t\t Pn \t\t error\n",
            "0 \t\t 1.500000 \t 0.000000\n",
            "1 \t\t 1.386363636 \t 0.321177739\n",
            "2 \t\t 1.389390484 \t 0.008677167\n",
            "3 \t\t 1.389390683 \t 0.000000572\n",
            "La raiz apriximada es 1.389390683\n"
          ]
        }
      ]
    },
    {
      "cell_type": "code",
      "source": [
        "#2_Metodo de la Secante\n",
        "#Ingrese el valor inicial \n",
        "p0 = 1.1\n",
        "p1 = 1.5\n",
        "error = 100\n",
        "tol = 0.0000001\n",
        "niter = 0\n",
        "nmax = 100\n",
        "\n",
        "print(\"n \\t\\t Pn \\t\\t error\")\n",
        "print(\"{0} \\t\\t {1:6.6f} \\t {2:6.6f}\".format(niter, p0, 0 ))\n",
        "\n",
        "q0 = funcion1(p0)\n",
        "q1 = funcion1(p1)\n",
        "\n",
        "while error > tol and niter < nmax:\n",
        "    p = p1-(q1*(p1-p0))/(q1-q0)\n",
        "    error = abs(funcion1(p)-funcion1(p1))\n",
        "    p0 = p1\n",
        "    q0 = q1\n",
        "    p1 = p\n",
        "    q1 = funcion1(p)\n",
        "    niter +=1\n",
        "    print(\"{0} \\t\\t {1:6.8f} \\t {2:6.8f}\".format(niter, p, error ))\n",
        "\n",
        "print(\"La raiz apriximada es {0:6.8f}\".format(p))"
      ],
      "metadata": {
        "colab": {
          "base_uri": "https://localhost:8080/"
        },
        "id": "WkDuK5CzLvHi",
        "outputId": "ee37144a-d94d-46ad-95f5-f223d4374138"
      },
      "execution_count": null,
      "outputs": [
        {
          "output_type": "stream",
          "name": "stdout",
          "text": [
            "n \t\t Pn \t\t error\n",
            "0 \t\t 1.100000 \t 0.000000\n",
            "1 \t\t 1.38569861 \t 0.32308434\n",
            "2 \t\t 1.38944316 \t 0.01073476\n",
            "3 \t\t 1.38939069 \t 0.00015041\n",
            "4 \t\t 1.38939068 \t 0.00000001\n",
            "La raiz apriximada es 1.38939068\n"
          ]
        }
      ]
    },
    {
      "cell_type": "code",
      "source": [
        "#3_Metodo de Newton para polinomios (con la evaluación por el método de Horner)\n",
        "#Ingrese valores iniciales\n",
        "tol=0.000001\n",
        "niter=0\n",
        "nmax=20\n",
        "error=100\n",
        "#coeficientes del polinomio \n",
        "a=1\n",
        "b=1\n",
        "c=1\n",
        "d=-3\n",
        "e=1\n",
        "#Se define la funcion p(x)\n",
        "p = np.array([a,b,c, d,  e ])\n",
        "pi=1\n",
        "print(\"n \\t\\t Pn \\t\\t error\")\n",
        "print(\"{0} \\t\\t {1:6.6f} \\t {2:6.6f}\".format(niter, pi, 0 ))\n",
        "\n",
        "#Ciclo iterativo \n",
        "while error > tol and niter<= nmax:\n",
        "   #Se aplica el método de horner \n",
        "  q4=e\n",
        "  q3=d+ q4*(pi)\n",
        "  q2=c + q3*(pi)\n",
        "  q1=b+ q2*pi\n",
        "\n",
        "  #Se determina el Q(x)\n",
        "  q=np.array([q1,q2, q3,  q4 ])\n",
        "  \n",
        "\n",
        "  #Se calcula el valor de cada pn\n",
        "  pn = pi - (pol.polyval(pi, p))/(pol.polyval(pi, q))\n",
        "\n",
        "  error = abs(pn - pi)\n",
        "\n",
        "  pi=pn\n",
        "  niter += 1\n",
        "  print(\"{0} \\t\\t {1:6.6f} \\t {2:6.6f}\".format(niter, pn,error ))\n",
        "\n",
        "print(\"La raiz apriximada es {0:6.9f}\".format(pn))  "
      ],
      "metadata": {
        "id": "pCmriMw6MhWS",
        "colab": {
          "base_uri": "https://localhost:8080/"
        },
        "outputId": "a6831790-c10a-4724-8acc-8902981e5a43"
      },
      "execution_count": 40,
      "outputs": [
        {
          "output_type": "stream",
          "name": "stdout",
          "text": [
            "n \t\t Pn \t\t error\n",
            "0 \t\t 1.000000 \t 0.000000\n",
            "1 \t\t 1.500000 \t 0.500000\n",
            "2 \t\t 1.386364 \t 0.113636\n",
            "3 \t\t 1.389390 \t 0.003027\n",
            "4 \t\t 1.389391 \t 0.000000\n",
            "La raiz apriximada es 1.389390683\n"
          ]
        }
      ]
    },
    {
      "cell_type": "code",
      "source": [
        "#4_Metodo de Müller\n",
        "#Ingrese el valores iniciales\n",
        "tol=0.000000001\n",
        "nmax=20\n",
        "h=100\n",
        "error=100\n",
        "#Determinan valores iniciales\n",
        "p0=0.5\n",
        "p1=-0.5\n",
        "p2=0\n",
        "h1=p1-p0\n",
        "h2=p2-p1\n",
        "g1=( funcion1(p1)- funcion1(p0) )/h1\n",
        "g2=( funcion1(p2)- funcion1(p1))/h2\n",
        "d=(g2 - g1)/(h2+h1)\n",
        "niter=3\n",
        "\n",
        "print(\"# iter  \\t\\t P  \\t\\t\\t error\")\n",
        "\n",
        "#Ciclo iterativo \n",
        "while abs(h) > tol and niter<= nmax:\n",
        "  b= g2 + h2*d\n",
        "  D=(b**2 -4*funcion1(p2)*d)**(1/2)\n",
        "\n",
        "  if abs(b-D)<abs(b+D):\n",
        "    E= b+D\n",
        "  else:\n",
        "    E=b-D\n",
        " \n",
        "  h=-2*funcion1(p2)/E\n",
        "  p=p2+h\n",
        "  error= abs(p- p2)\n",
        "  #Se determinan nuevos valores\n",
        "  p0=p1\n",
        "  p1=p2\n",
        "  p2=p\n",
        "  h1=p1-p0\n",
        "  h2=p2-p1\n",
        "  g1=( funcion1(p1)- funcion1(p0) )/h1\n",
        "  g2=( funcion1(p2)- funcion1(p1))/h2\n",
        "  d=(g2 - g1  )/(h2+h1)\n",
        "  print(\"{0} \\t\\t {1:6.6f} \\t {2:15.6f}\".format(niter, p,error ))\n",
        "  niter+=1\n",
        " \n",
        "print(\"La raiz apriximada es {0:6.9f}\".format(p))  "
      ],
      "metadata": {
        "id": "gAiAWlYyMwZU",
        "colab": {
          "base_uri": "https://localhost:8080/"
        },
        "outputId": "2b76da8c-2e56-471f-eda1-278a610c35d2"
      },
      "execution_count": 41,
      "outputs": [
        {
          "output_type": "stream",
          "name": "stdout",
          "text": [
            "# iter  \t\t P  \t\t\t error\n",
            "3 \t\t -0.100000-0.888819j \t        0.894427\n",
            "4 \t\t -0.492146-0.447031j \t        0.590725\n",
            "5 \t\t -0.352226-0.484132j \t        0.144755\n",
            "6 \t\t -0.340229-0.443036j \t        0.042812\n",
            "7 \t\t -0.339095-0.446656j \t        0.003794\n",
            "8 \t\t -0.339093-0.446630j \t        0.000026\n",
            "9 \t\t -0.339093-0.446630j \t        0.000000\n",
            "10 \t\t -0.339093-0.446630j \t        0.000000\n",
            "La raiz apriximada es -0.339092838-0.446630100j\n"
          ]
        }
      ]
    },
    {
      "cell_type": "code",
      "source": [],
      "metadata": {
        "id": "GAC7Q-OrM3kg"
      },
      "execution_count": null,
      "outputs": []
    }
  ]
}